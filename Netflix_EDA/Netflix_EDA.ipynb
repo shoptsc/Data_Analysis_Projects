{
 "cells": [
  {
   "cell_type": "markdown",
   "id": "c0c66544",
   "metadata": {},
   "source": [
    "Dataset Content\n",
    "\n",
    "\n",
    "This dataset consists of tv shows and movies available on Netflix as of 2019. The dataset is collected from Flixable which is a third-party Netflix search engine.\n",
    "\n",
    "In 2018, they released an interesting report which shows that the number of TV shows on Netflix has nearly tripled since 2010. The streaming service’s number of movies has decreased by more than 2,000 titles since 2010, while its number of TV shows has nearly tripled. It will be interesting to explore what all other insights can be obtained from the same dataset."
   ]
  },
  {
   "cell_type": "code",
   "execution_count": 2,
   "id": "2c912e2c",
   "metadata": {},
   "outputs": [],
   "source": [
    "import pandas as pd\n",
    "import numpy as np\n",
    "import matplotlib.pyplot as plt\n",
    "import seaborn as sns\n"
   ]
  },
  {
   "cell_type": "code",
   "execution_count": 3,
   "id": "48299ac8",
   "metadata": {},
   "outputs": [],
   "source": [
    "dataset = pd.read_csv(\"netflix_titles_nov_2019.csv\")"
   ]
  },
  {
   "cell_type": "code",
   "execution_count": 4,
   "id": "fe3a5fd8",
   "metadata": {},
   "outputs": [
    {
     "data": {
      "text/html": [
       "<div>\n",
       "<style scoped>\n",
       "    .dataframe tbody tr th:only-of-type {\n",
       "        vertical-align: middle;\n",
       "    }\n",
       "\n",
       "    .dataframe tbody tr th {\n",
       "        vertical-align: top;\n",
       "    }\n",
       "\n",
       "    .dataframe thead th {\n",
       "        text-align: right;\n",
       "    }\n",
       "</style>\n",
       "<table border=\"1\" class=\"dataframe\">\n",
       "  <thead>\n",
       "    <tr style=\"text-align: right;\">\n",
       "      <th></th>\n",
       "      <th>show_id</th>\n",
       "      <th>title</th>\n",
       "      <th>director</th>\n",
       "      <th>cast</th>\n",
       "      <th>country</th>\n",
       "      <th>date_added</th>\n",
       "      <th>release_year</th>\n",
       "      <th>rating</th>\n",
       "      <th>duration</th>\n",
       "      <th>listed_in</th>\n",
       "      <th>description</th>\n",
       "      <th>type</th>\n",
       "    </tr>\n",
       "  </thead>\n",
       "  <tbody>\n",
       "    <tr>\n",
       "      <th>0</th>\n",
       "      <td>81193313</td>\n",
       "      <td>Chocolate</td>\n",
       "      <td>NaN</td>\n",
       "      <td>Ha Ji-won, Yoon Kye-sang, Jang Seung-jo, Kang ...</td>\n",
       "      <td>South Korea</td>\n",
       "      <td>November 30, 2019</td>\n",
       "      <td>2019</td>\n",
       "      <td>TV-14</td>\n",
       "      <td>1 Season</td>\n",
       "      <td>International TV Shows, Korean TV Shows, Roman...</td>\n",
       "      <td>Brought together by meaningful meals in the pa...</td>\n",
       "      <td>TV Show</td>\n",
       "    </tr>\n",
       "    <tr>\n",
       "      <th>1</th>\n",
       "      <td>81197050</td>\n",
       "      <td>Guatemala: Heart of the Mayan World</td>\n",
       "      <td>Luis Ara, Ignacio Jaunsolo</td>\n",
       "      <td>Christian Morales</td>\n",
       "      <td>NaN</td>\n",
       "      <td>November 30, 2019</td>\n",
       "      <td>2019</td>\n",
       "      <td>TV-G</td>\n",
       "      <td>67 min</td>\n",
       "      <td>Documentaries, International Movies</td>\n",
       "      <td>From Sierra de las Minas to Esquipulas, explor...</td>\n",
       "      <td>Movie</td>\n",
       "    </tr>\n",
       "    <tr>\n",
       "      <th>2</th>\n",
       "      <td>81213894</td>\n",
       "      <td>The Zoya Factor</td>\n",
       "      <td>Abhishek Sharma</td>\n",
       "      <td>Sonam Kapoor, Dulquer Salmaan, Sanjay Kapoor, ...</td>\n",
       "      <td>India</td>\n",
       "      <td>November 30, 2019</td>\n",
       "      <td>2019</td>\n",
       "      <td>TV-14</td>\n",
       "      <td>135 min</td>\n",
       "      <td>Comedies, Dramas, International Movies</td>\n",
       "      <td>A goofy copywriter unwittingly convinces the I...</td>\n",
       "      <td>Movie</td>\n",
       "    </tr>\n",
       "    <tr>\n",
       "      <th>3</th>\n",
       "      <td>81082007</td>\n",
       "      <td>Atlantics</td>\n",
       "      <td>Mati Diop</td>\n",
       "      <td>Mama Sane, Amadou Mbow, Ibrahima Traore, Nicol...</td>\n",
       "      <td>France, Senegal, Belgium</td>\n",
       "      <td>November 29, 2019</td>\n",
       "      <td>2019</td>\n",
       "      <td>TV-14</td>\n",
       "      <td>106 min</td>\n",
       "      <td>Dramas, Independent Movies, International Movies</td>\n",
       "      <td>Arranged to marry a rich man, young Ada is cru...</td>\n",
       "      <td>Movie</td>\n",
       "    </tr>\n",
       "    <tr>\n",
       "      <th>4</th>\n",
       "      <td>80213643</td>\n",
       "      <td>Chip and Potato</td>\n",
       "      <td>NaN</td>\n",
       "      <td>Abigail Oliver, Andrea Libman, Briana Buckmast...</td>\n",
       "      <td>Canada, United Kingdom</td>\n",
       "      <td>NaN</td>\n",
       "      <td>2019</td>\n",
       "      <td>TV-Y</td>\n",
       "      <td>2 Seasons</td>\n",
       "      <td>Kids' TV</td>\n",
       "      <td>Lovable pug Chip starts kindergarten, makes ne...</td>\n",
       "      <td>TV Show</td>\n",
       "    </tr>\n",
       "  </tbody>\n",
       "</table>\n",
       "</div>"
      ],
      "text/plain": [
       "    show_id                                title                    director  \\\n",
       "0  81193313                            Chocolate                         NaN   \n",
       "1  81197050  Guatemala: Heart of the Mayan World  Luis Ara, Ignacio Jaunsolo   \n",
       "2  81213894                      The Zoya Factor             Abhishek Sharma   \n",
       "3  81082007                            Atlantics                   Mati Diop   \n",
       "4  80213643                      Chip and Potato                         NaN   \n",
       "\n",
       "                                                cast  \\\n",
       "0  Ha Ji-won, Yoon Kye-sang, Jang Seung-jo, Kang ...   \n",
       "1                                  Christian Morales   \n",
       "2  Sonam Kapoor, Dulquer Salmaan, Sanjay Kapoor, ...   \n",
       "3  Mama Sane, Amadou Mbow, Ibrahima Traore, Nicol...   \n",
       "4  Abigail Oliver, Andrea Libman, Briana Buckmast...   \n",
       "\n",
       "                    country         date_added  release_year rating  \\\n",
       "0               South Korea  November 30, 2019          2019  TV-14   \n",
       "1                       NaN  November 30, 2019          2019   TV-G   \n",
       "2                     India  November 30, 2019          2019  TV-14   \n",
       "3  France, Senegal, Belgium  November 29, 2019          2019  TV-14   \n",
       "4    Canada, United Kingdom                NaN          2019   TV-Y   \n",
       "\n",
       "    duration                                          listed_in  \\\n",
       "0   1 Season  International TV Shows, Korean TV Shows, Roman...   \n",
       "1     67 min                Documentaries, International Movies   \n",
       "2    135 min             Comedies, Dramas, International Movies   \n",
       "3    106 min   Dramas, Independent Movies, International Movies   \n",
       "4  2 Seasons                                           Kids' TV   \n",
       "\n",
       "                                         description     type  \n",
       "0  Brought together by meaningful meals in the pa...  TV Show  \n",
       "1  From Sierra de las Minas to Esquipulas, explor...    Movie  \n",
       "2  A goofy copywriter unwittingly convinces the I...    Movie  \n",
       "3  Arranged to marry a rich man, young Ada is cru...    Movie  \n",
       "4  Lovable pug Chip starts kindergarten, makes ne...  TV Show  "
      ]
     },
     "execution_count": 4,
     "metadata": {},
     "output_type": "execute_result"
    }
   ],
   "source": [
    "dataset.head()"
   ]
  },
  {
   "cell_type": "code",
   "execution_count": 5,
   "id": "9f698744",
   "metadata": {},
   "outputs": [
    {
     "name": "stdout",
     "output_type": "stream",
     "text": [
      "The total movies and shows is : 5837\n",
      "Total numbers of variables is:  12\n",
      "----------------------------------------------------------------------------------------------------\n",
      "The dataset columns are listed below: \n",
      "Index(['show_id', 'title', 'director', 'cast', 'country', 'date_added',\n",
      "       'release_year', 'rating', 'duration', 'listed_in', 'description',\n",
      "       'type'],\n",
      "      dtype='object')\n",
      "----------------------------------------------------------------------------------------------------\n",
      "The data type of each columns are: \n",
      "show_id          int64\n",
      "title           object\n",
      "director        object\n",
      "cast            object\n",
      "country         object\n",
      "date_added      object\n",
      "release_year     int64\n",
      "rating          object\n",
      "duration        object\n",
      "listed_in       object\n",
      "description     object\n",
      "type            object\n",
      "dtype: object\n",
      "----------------------------------------------------------------------------------------------------\n",
      "The Missing rows in each columns are: \n",
      "\n",
      "director      1901\n",
      "cast           556\n",
      "country        427\n",
      "date_added     642\n",
      "rating          10\n",
      "dtype: int64\n"
     ]
    }
   ],
   "source": [
    "def data_details(df):\n",
    "    \n",
    "    print(\"The total movies and shows is :\", df.shape[0])\n",
    "    print(\"Total numbers of variables is: \", df.shape[1])\n",
    "    \n",
    "    print(\"----------\"*10)\n",
    "    \n",
    "    print(\"The dataset columns are listed below: \")\n",
    "    print(df.columns)\n",
    "    \n",
    "    print(\"----------\"*10)\n",
    "    \n",
    "    print(\"The data type of each columns are: \")\n",
    "    print(df.dtypes)\n",
    "    \n",
    "    print(\"----------\"*10)\n",
    "    print(\"The Missing rows in each columns are: \\n\")\n",
    "    missing_number = df.isnull().sum()\n",
    "    print(missing_number[missing_number > 0])\n",
    "    \n",
    "data_details(dataset)"
   ]
  },
  {
   "cell_type": "raw",
   "id": "357e8998",
   "metadata": {},
   "source": []
  },
  {
   "cell_type": "markdown",
   "id": "e82f28f5",
   "metadata": {},
   "source": [
    "## Data Cleaning Process"
   ]
  },
  {
   "cell_type": "code",
   "execution_count": 6,
   "id": "d31d7ebe",
   "metadata": {},
   "outputs": [
    {
     "data": {
      "text/html": [
       "<div>\n",
       "<style scoped>\n",
       "    .dataframe tbody tr th:only-of-type {\n",
       "        vertical-align: middle;\n",
       "    }\n",
       "\n",
       "    .dataframe tbody tr th {\n",
       "        vertical-align: top;\n",
       "    }\n",
       "\n",
       "    .dataframe thead th {\n",
       "        text-align: right;\n",
       "    }\n",
       "</style>\n",
       "<table border=\"1\" class=\"dataframe\">\n",
       "  <thead>\n",
       "    <tr style=\"text-align: right;\">\n",
       "      <th></th>\n",
       "      <th>show_id</th>\n",
       "      <th>title</th>\n",
       "      <th>director</th>\n",
       "      <th>cast</th>\n",
       "      <th>country</th>\n",
       "      <th>date_added</th>\n",
       "      <th>release_year</th>\n",
       "      <th>rating</th>\n",
       "      <th>duration</th>\n",
       "      <th>listed_in</th>\n",
       "      <th>description</th>\n",
       "      <th>type</th>\n",
       "    </tr>\n",
       "  </thead>\n",
       "  <tbody>\n",
       "    <tr>\n",
       "      <th>1134</th>\n",
       "      <td>80175351</td>\n",
       "      <td>Kakegurui</td>\n",
       "      <td>NaN</td>\n",
       "      <td>Saori Hayami, Minami Tanaka, Tatsuya Tokutake,...</td>\n",
       "      <td>Japan</td>\n",
       "      <td>NaN</td>\n",
       "      <td>2019</td>\n",
       "      <td>TV-14</td>\n",
       "      <td>2 Seasons</td>\n",
       "      <td>Anime Series, International TV Shows, TV Thril...</td>\n",
       "      <td>High roller Yumeko Jabami plans to clean house...</td>\n",
       "      <td>TV Show</td>\n",
       "    </tr>\n",
       "    <tr>\n",
       "      <th>1741</th>\n",
       "      <td>81072516</td>\n",
       "      <td>Sarkar</td>\n",
       "      <td>A.R. Murugadoss</td>\n",
       "      <td>Vijay, Varalakshmi Sarathkumar, Keerthi Suresh...</td>\n",
       "      <td>India</td>\n",
       "      <td>March 2, 2019</td>\n",
       "      <td>2018</td>\n",
       "      <td>TV-MA</td>\n",
       "      <td>162 min</td>\n",
       "      <td>Action &amp; Adventure, Dramas, International Movies</td>\n",
       "      <td>A ruthless businessman’s mission to expose ele...</td>\n",
       "      <td>Movie</td>\n",
       "    </tr>\n",
       "  </tbody>\n",
       "</table>\n",
       "</div>"
      ],
      "text/plain": [
       "       show_id      title         director  \\\n",
       "1134  80175351  Kakegurui              NaN   \n",
       "1741  81072516     Sarkar  A.R. Murugadoss   \n",
       "\n",
       "                                                   cast country  \\\n",
       "1134  Saori Hayami, Minami Tanaka, Tatsuya Tokutake,...   Japan   \n",
       "1741  Vijay, Varalakshmi Sarathkumar, Keerthi Suresh...   India   \n",
       "\n",
       "         date_added  release_year rating   duration  \\\n",
       "1134            NaN          2019  TV-14  2 Seasons   \n",
       "1741  March 2, 2019          2018  TV-MA    162 min   \n",
       "\n",
       "                                              listed_in  \\\n",
       "1134  Anime Series, International TV Shows, TV Thril...   \n",
       "1741   Action & Adventure, Dramas, International Movies   \n",
       "\n",
       "                                            description     type  \n",
       "1134  High roller Yumeko Jabami plans to clean house...  TV Show  \n",
       "1741  A ruthless businessman’s mission to expose ele...    Movie  "
      ]
     },
     "execution_count": 6,
     "metadata": {},
     "output_type": "execute_result"
    }
   ],
   "source": [
    "duplicated_data = dataset.duplicated([\"title\", \"country\", \"type\", \"release_year\"])\n",
    "dataset[duplicated_data]"
   ]
  },
  {
   "cell_type": "code",
   "execution_count": 7,
   "id": "534266dd",
   "metadata": {},
   "outputs": [],
   "source": [
    "# Drop the id columns\n",
    "dataset = dataset.drop(\"show_id\", axis=\"columns\")   # You can sue axis = 1 also.\n"
   ]
  },
  {
   "cell_type": "code",
   "execution_count": 8,
   "id": "86be0e9e",
   "metadata": {},
   "outputs": [],
   "source": [
    "# Create a new column for the numbers of cast in each row\n",
    "dataset[\"cast\"] = dataset[\"cast\"].replace(np.nan, \"unknown\")\n",
    "\n",
    "def cast_count(cast):\n",
    "    if cast == \"unknown\":\n",
    "        return 0\n",
    "    else:\n",
    "        names = cast.split()\n",
    "        number_of_cast = len(names)\n",
    "        return number_of_cast\n",
    "\n",
    "dataset[\"number_of_cast\"] = dataset[\"cast\"].apply(cast_count)\n",
    "dataset[\"cast\"] = dataset[\"cast\"].replace(\"unknown\", np.nan)"
   ]
  },
  {
   "cell_type": "code",
   "execution_count": 9,
   "id": "d82aad1c",
   "metadata": {},
   "outputs": [],
   "source": [
    "dataset = dataset.reset_index()"
   ]
  },
  {
   "cell_type": "code",
   "execution_count": 10,
   "id": "361cfef8",
   "metadata": {},
   "outputs": [],
   "source": [
    "# Replacing the rating column with the mode because the data type is non numerical\n",
    "\n",
    "dataset[\"rating\"] = dataset[\"rating\"].fillna(dataset[\"rating\"].mode()[0])"
   ]
  },
  {
   "cell_type": "code",
   "execution_count": 11,
   "id": "5a3019cf",
   "metadata": {},
   "outputs": [],
   "source": [
    "# Replacing the missing values in the date_added column with january andthe mode of the release year.\n",
    "dataset[\"date_added\"] = dataset[\"date_added\"].fillna('january 1 , {}'.format(dataset[\"release_year\"].mode()[0]))   "
   ]
  },
  {
   "cell_type": "code",
   "execution_count": 12,
   "id": "9af7ca92",
   "metadata": {},
   "outputs": [],
   "source": [
    "for i,j in zip(dataset['country'].values,dataset.index):\n",
    "    if i==np.nan:\n",
    "        if ('Anime' in dataset.loc[j,'listed_in']) or ('anime' in dataset.loc[j,'listed_in']):\n",
    "                dataset.loc[j,'country']='Japan'\n",
    "        else:\n",
    "            continue\n",
    "    else:\n",
    "        continue"
   ]
  },
  {
   "cell_type": "code",
   "execution_count": 13,
   "id": "db246aa5",
   "metadata": {},
   "outputs": [],
   "source": [
    "# Converting the date time type from object to datetime.\n",
    "dataset['date_added'] = pd.to_datetime(dataset[\"date_added\"])"
   ]
  },
  {
   "cell_type": "code",
   "execution_count": 14,
   "id": "edc58a7f",
   "metadata": {},
   "outputs": [],
   "source": [
    "##  Exploratory Data Analysis"
   ]
  },
  {
   "cell_type": "code",
   "execution_count": 15,
   "id": "48f74d31",
   "metadata": {},
   "outputs": [
    {
     "data": {
      "text/plain": [
       "array(['TV-14', 'TV-G', 'TV-Y', 'TV-MA', 'TV-PG', 'R', 'TV-Y7', 'PG', 'G',\n",
       "       'PG-13', 'TV-Y7-FV', 'NR', 'UR', 'NC-17'], dtype=object)"
      ]
     },
     "execution_count": 15,
     "metadata": {},
     "output_type": "execute_result"
    }
   ],
   "source": [
    "dataset[\"rating\"].unique()"
   ]
  },
  {
   "cell_type": "markdown",
   "id": "ad770149",
   "metadata": {},
   "source": [
    "\n",
    "we know that NR and UR are the same. so we need to fix this in the dataset.\n",
    "we need to make all rows with UR as NR."
   ]
  },
  {
   "cell_type": "code",
   "execution_count": 16,
   "id": "71059f08",
   "metadata": {},
   "outputs": [],
   "source": [
    "def no_rating(rating):\n",
    "    if rating == \"UR\":\n",
    "        rating = \"NR\"\n",
    "    return rating\n",
    "\n",
    "dataset[\"rating\"] = dataset[\"rating\"].apply(no_rating)"
   ]
  },
  {
   "cell_type": "code",
   "execution_count": 17,
   "id": "77c0c266",
   "metadata": {},
   "outputs": [
    {
     "data": {
      "text/plain": [
       "array(['TV-14', 'TV-G', 'TV-Y', 'TV-MA', 'TV-PG', 'R', 'TV-Y7', 'PG', 'G',\n",
       "       'PG-13', 'TV-Y7-FV', 'NR', 'NC-17'], dtype=object)"
      ]
     },
     "execution_count": 17,
     "metadata": {},
     "output_type": "execute_result"
    }
   ],
   "source": [
    "dataset[\"rating\"].unique()"
   ]
  },
  {
   "cell_type": "code",
   "execution_count": 25,
   "id": "cae6f234",
   "metadata": {},
   "outputs": [
    {
     "data": {
      "image/png": "[encoded data removed]",
      "text/plain": [
       "<Figure size 576x432 with 1 Axes>"
      ]
     },
     "metadata": {
      "needs_background": "light"
     },
     "output_type": "display_data"
    }
   ],
   "source": [
    "plt.figure(figsize = (8, 6))\n",
    "dataset[\"rating\"].value_counts(normalize= True).plot.bar()\n",
    "plt.title(\"Distribution Of Rating Categories\")\n",
    "plt.xlabel(\"Rating\")\n",
    "plt.ylabel(\"Relative Frequency\")\n",
    "plt.show()"
   ]
  },
  {
   "cell_type": "markdown",
   "id": "05cb5d92",
   "metadata": {},
   "source": [
    "from the above graph of rating we can see that the highest occurence is TV-MA , followed by TV-14"
   ]
  },
  {
   "cell_type": "code",
   "execution_count": 31,
   "metadata": {},
   "outputs": [
    {
     "data": {
      "image/png": "[encoded data removed]",
      "text/plain": [
       "<Figure size 720x576 with 1 Axes>"
      ]
     },
     "metadata": {
      "needs_background": "light"
     },
     "output_type": "display_data"
    }
   ],
   "source": [
    "plt.figure(figsize= (10, 8))\n",
    "sns.countplot(x= \"rating\", hue=\"type\", data= dataset)\n",
    "plt.title('Comparing Frequency Between Type And Rating')\n",
    "plt.show()"
   ]
  },
  {
   "cell_type": "markdown",
   "id": "be482a10",
   "metadata": {},
   "source": [
    "From the above graph we can see that Movies is the major category in every rating except for TV-Y, TV-Y7, TV-Y7-FV where the TV shows has more than the movies. "
   ]
  },
  {
   "cell_type": "code",
   "execution_count": 34,
   "id": "229df5f7",
   "metadata": {},
   "outputs": [
    {
     "data": {
      "text/plain": [
       "United States                                                                                               1907\n",
       "India                                                                                                        697\n",
       "United Kingdom                                                                                               336\n",
       "Japan                                                                                                        168\n",
       "Canada                                                                                                       139\n",
       "                                                                                                            ... \n",
       "United Arab Emirates, Jordan                                                                                   1\n",
       "Denmark, Indonesia, Finland, Norway, United Kingdom, Israel, France, United States, Germany, Netherlands       1\n",
       "Canada, United Kingdom, Netherlands                                                                            1\n",
       "United States, New Zealand, Japan                                                                              1\n",
       "Spain, Mexico, France                                                                                          1\n",
       "Name: country, Length: 527, dtype: int64"
      ]
     },
     "execution_count": 34,
     "metadata": {},
     "output_type": "execute_result"
    }
   ],
   "source": [
    "dataset[\"country\"].value_counts().sort_values(ascending=False)"
   ]
  },
  {
   "cell_type": "markdown",
   "id": "3f1408cd",
   "metadata": {},
   "source": [
    "Since we have lots of countries in the dataset,we will focus more on the following countries.\n",
    "\n",
    "{United State, India, United Kingdom, Japan, Canada, Spain and Nigeria}"
   ]
  },
  {
   "cell_type": "code",
   "execution_count": 45,
   "id": "6a48b0d6",
   "metadata": {},
   "outputs": [
    {
     "data": {
      "image/png": "[encoded data removed]",
      "text/plain": [
       "<Figure size 864x576 with 1 Axes>"
      ]
     },
     "metadata": {
      "needs_background": "light"
     },
     "output_type": "display_data"
    }
   ],
   "source": [
    "top_productive_countries = dataset[\n",
    "    (dataset[\"country\"] == \"United States\") | (dataset[\"country\"] == \"India\") |\n",
    "    (dataset[\"country\"] == \"United Kingdom\")|(dataset[\"country\"] == \"Japan\") | \n",
    "    (dataset[\"country\"] == \"Canada\") | (dataset[\"country\"] == \"Spain\") | \n",
    "    (dataset[\"country\"] == \"Nigeria\")\n",
    "]\n",
    "plt.figure(figsize= (12, 8))\n",
    "sns.countplot(x = \"country\", hue = \"type\", data = top_productive_countries)\n",
    "plt.title(\"Comparing Between The Types That The Top Countries Produce\")\n",
    "plt.show()"
   ]
  },
  {
   "cell_type": "markdown",
   "id": "973c60a4",
   "metadata": {},
   "source": [
    "From the graph we can see that the united kingdom and japan produces more tv shows than movies."
   ]
  },
  {
   "cell_type": "markdown",
   "id": "72f4054b",
   "metadata": {},
   "source": [
    "Now let's check for the number of ratings categories that we have in the above countries."
   ]
  },
  {
   "cell_type": "code",
   "execution_count": 57,
   "id": "2c80c03a",
   "metadata": {},
   "outputs": [
    {
     "name": "stdout",
     "output_type": "stream",
     "text": [
      "India\n",
      "TV-14       53.084648\n",
      "TV-MA       23.529412\n",
      "TV-PG       17.073171\n",
      "NR           2.869440\n",
      "TV-G         1.004304\n",
      "TV-Y7        0.717360\n",
      "PG-13        0.573888\n",
      "PG           0.430416\n",
      "TV-Y7-FV     0.286944\n",
      "R            0.286944\n",
      "TV-Y         0.143472\n",
      "Name: rating, dtype: float64\n",
      "------------------------------------------------------------------------------------------\n",
      "Nigeria\n",
      "TV-14    61.538462\n",
      "TV-MA    26.923077\n",
      "NR        7.692308\n",
      "TV-PG     3.846154\n",
      "Name: rating, dtype: float64\n",
      "------------------------------------------------------------------------------------------\n",
      "United States\n",
      "TV-MA       31.515469\n",
      "TV-14       17.409544\n",
      "R           12.165705\n",
      "TV-PG       10.854746\n",
      "PG-13        7.079182\n",
      "PG           4.876770\n",
      "NR           4.824331\n",
      "TV-G         3.198741\n",
      "TV-Y7        2.621919\n",
      "TV-Y7-FV     2.097535\n",
      "TV-Y         2.045097\n",
      "G            1.258521\n",
      "NC-17        0.052438\n",
      "Name: rating, dtype: float64\n",
      "------------------------------------------------------------------------------------------\n",
      "Japan\n",
      "TV-14       46.428571\n",
      "TV-MA       25.595238\n",
      "TV-PG       10.119048\n",
      "NR           7.142857\n",
      "TV-Y7        5.357143\n",
      "PG-13        1.785714\n",
      "TV-Y7-FV     1.190476\n",
      "TV-Y         1.190476\n",
      "PG           0.595238\n",
      "TV-G         0.595238\n",
      "Name: rating, dtype: float64\n",
      "------------------------------------------------------------------------------------------\n",
      "Spain\n",
      "TV-MA    64.601770\n",
      "TV-14    19.469027\n",
      "NR        7.079646\n",
      "TV-PG     3.539823\n",
      "PG        1.769912\n",
      "R         1.769912\n",
      "TV-Y      0.884956\n",
      "TV-G      0.884956\n",
      "Name: rating, dtype: float64\n",
      "------------------------------------------------------------------------------------------\n",
      "United Kingdom\n",
      "TV-MA       40.773810\n",
      "TV-14       22.321429\n",
      "TV-PG       18.452381\n",
      "R            7.142857\n",
      "TV-G         6.250000\n",
      "NR           2.380952\n",
      "TV-Y7        0.892857\n",
      "TV-Y         0.595238\n",
      "PG           0.595238\n",
      "G            0.297619\n",
      "TV-Y7-FV     0.297619\n",
      "Name: rating, dtype: float64\n",
      "------------------------------------------------------------------------------------------\n",
      "Canada\n",
      "TV-MA       31.654676\n",
      "TV-14       17.985612\n",
      "TV-PG       15.107914\n",
      "R            7.913669\n",
      "PG           5.035971\n",
      "TV-Y         4.316547\n",
      "TV-G         4.316547\n",
      "TV-Y7        4.316547\n",
      "TV-Y7-FV     3.597122\n",
      "NR           3.597122\n",
      "PG-13        1.438849\n",
      "G            0.719424\n",
      "Name: rating, dtype: float64\n",
      "------------------------------------------------------------------------------------------\n"
     ]
    }
   ],
   "source": [
    "for i in top_productive_countries[\"country\"].unique():\n",
    "    print(i)\n",
    "    print(top_productive_countries[top_productive_countries[\"country\"] == i][\"rating\"].value_counts(normalize=True) * 100)\n",
    "    print(\"---------\" * 10)"
   ]
  },
  {
   "cell_type": "code",
   "execution_count": 62,
   "id": "5f798cc9",
   "metadata": {},
   "outputs": [],
   "source": [
    "# Creating a column for the year the mocies where produced.\n",
    "dataset[\"year_added\"] = dataset[\"date_added\"].dt.year\n"
   ]
  },
  {
   "cell_type": "code",
   "execution_count": 66,
   "id": "96124d14",
   "metadata": {},
   "outputs": [
    {
     "data": {
      "text/plain": [
       "Movie      0.674833\n",
       "TV Show    0.325167\n",
       "Name: type, dtype: float64"
      ]
     },
     "execution_count": 66,
     "metadata": {},
     "output_type": "execute_result"
    }
   ],
   "source": [
    "dataset[\"type\"].value_counts(normalize=True)"
   ]
  },
  {
   "cell_type": "markdown",
   "id": "f722d80c",
   "metadata": {},
   "source": [
    "Movies has the highest relative frequency."
   ]
  },
  {
   "cell_type": "code",
   "execution_count": 83,
   "id": "ee02bf9d",
   "metadata": {},
   "outputs": [
    {
     "data": {
      "text/plain": [
       "year_added  type   \n",
       "2008        Movie       50.000000\n",
       "            TV Show     50.000000\n",
       "2009        Movie      100.000000\n",
       "2010        Movie      100.000000\n",
       "2011        Movie      100.000000\n",
       "2012        Movie       57.142857\n",
       "            TV Show     42.857143\n",
       "2013        Movie       66.666667\n",
       "            TV Show     33.333333\n",
       "2014        Movie      100.000000\n",
       "2015        Movie       78.378378\n",
       "            TV Show     21.621622\n",
       "2016        Movie       64.077670\n",
       "            TV Show     35.922330\n",
       "2017        Movie       77.111486\n",
       "            TV Show     22.888514\n",
       "2018        Movie       56.847204\n",
       "            TV Show     43.152796\n",
       "2019        Movie       74.172545\n",
       "            TV Show     25.827455\n",
       "Name: type, dtype: float64"
      ]
     },
     "execution_count": 83,
     "metadata": {},
     "output_type": "execute_result"
    }
   ],
   "source": [
    "dataset.groupby('year_added')[\"type\"].value_counts(normalize=True)*100"
   ]
  },
  {
   "cell_type": "markdown",
   "id": "22916d29",
   "metadata": {},
   "source": [
    "We can see that movies has the lead in every year."
   ]
  },
  {
   "cell_type": "code",
   "execution_count": 91,
   "id": "e2830874",
   "metadata": {},
   "outputs": [
    {
     "data": {
      "text/plain": [
       "212                                      Drive\n",
       "511                                     Tunnel\n",
       "1134                                 Kakegurui\n",
       "1244                                 Supergirl\n",
       "1287                                 Limitless\n",
       "1707                                    Shadow\n",
       "1741                                    Sarkar\n",
       "2362                               Oh My Ghost\n",
       "2412                                  Love O2O\n",
       "2767                                    Bleach\n",
       "2803                                   One Day\n",
       "2873                             The Innocents\n",
       "2934                          The Birth Reborn\n",
       "3050                               Oh My Ghost\n",
       "3214                               Us and Them\n",
       "3435                                      Troy\n",
       "3485                                 Locked Up\n",
       "3585                                      Love\n",
       "3587                              The Outsider\n",
       "3593                                     Benji\n",
       "3660                                      Solo\n",
       "3671                               The Silence\n",
       "3672                               The Silence\n",
       "3884                                  Lovesick\n",
       "4015                                The Secret\n",
       "4135                                   Top Boy\n",
       "4225                                       Zoo\n",
       "4241                                   Charmed\n",
       "4270                                  The Code\n",
       "4303                                   Manhunt\n",
       "4339                                      Love\n",
       "4379                                    Maniac\n",
       "4393                       She's Gotta Have It\n",
       "4444                                   Persona\n",
       "4445                             The Iron Lady\n",
       "4455                                 The Saint\n",
       "4513                               The In-Laws\n",
       "4578                                  Hostages\n",
       "4591                                  The Oath\n",
       "4661                                    Tunnel\n",
       "4691                                    Prince\n",
       "4859                           Rosario Tijeras\n",
       "4868                             We Are Family\n",
       "4902                                  Lavender\n",
       "4910                                     Skins\n",
       "4951                               Blood Money\n",
       "5057                                     Tiger\n",
       "5063                       People You May Know\n",
       "5124                                The Lovers\n",
       "5184                                  Aquarius\n",
       "5339    Little Baby Bum: Nursery Rhyme Friends\n",
       "5533                                      Deep\n",
       "5538                                 Limitless\n",
       "5597                           Frank and Cindy\n",
       "5621                               Retribution\n",
       "5734                   Wet Hot American Summer\n",
       "5757                                      Life\n",
       "Name: title, dtype: object"
      ]
     },
     "execution_count": 91,
     "metadata": {},
     "output_type": "execute_result"
    }
   ],
   "source": [
    "dups = dataset.duplicated([\"title\"])\n",
    "dataset[dups][\"title\"]"
   ]
  },
  {
   "cell_type": "code",
   "execution_count": 98,
   "id": "9c898f77",
   "metadata": {},
   "outputs": [
    {
     "name": "stdout",
     "output_type": "stream",
     "text": [
      "     title   type  release_year        country\n",
      "101  Drive  Movie          2011  United States\n",
      "212  Drive  Movie          2019          India\n",
      "--------------------------------------------------------------------------------\n",
      "       title     type  release_year      country\n",
      "303   Tunnel  TV Show          2019          NaN\n",
      "511   Tunnel  TV Show          2017  South Korea\n",
      "4661  Tunnel    Movie          2016  South Korea\n",
      "--------------------------------------------------------------------------------\n",
      "          title     type  release_year country\n",
      "957   Kakegurui  TV Show          2019   Japan\n",
      "1134  Kakegurui  TV Show          2019   Japan\n",
      "--------------------------------------------------------------------------------\n",
      "          title     type  release_year                        country\n",
      "492   Supergirl    Movie          1984  United Kingdom, United States\n",
      "1244  Supergirl  TV Show          2019                  United States\n",
      "--------------------------------------------------------------------------------\n",
      "          title     type  release_year        country\n",
      "474   Limitless    Movie          2017          India\n",
      "1287  Limitless    Movie          2011  United States\n",
      "5538  Limitless  TV Show          2016  United States\n",
      "--------------------------------------------------------------------------------\n",
      "       title     type  release_year           country\n",
      "154   Shadow    Movie          2018  China, Hong Kong\n",
      "1707  Shadow  TV Show          2019               NaN\n",
      "--------------------------------------------------------------------------------\n",
      "       title   type  release_year country\n",
      "1740  Sarkar  Movie          2018   India\n",
      "1741  Sarkar  Movie          2018   India\n",
      "--------------------------------------------------------------------------------\n",
      "            title     type  release_year      country\n",
      "775   Oh My Ghost  TV Show          2015  South Korea\n",
      "2362  Oh My Ghost  TV Show          2018     Thailand\n",
      "3050  Oh My Ghost    Movie          2009     Thailand\n",
      "--------------------------------------------------------------------------------\n",
      "         title     type  release_year country\n",
      "1564  Love O2O    Movie          2016   China\n",
      "2412  Love O2O  TV Show          2016   China\n",
      "--------------------------------------------------------------------------------\n",
      "       title     type  release_year country\n",
      "2430  Bleach  TV Show          2006   Japan\n",
      "2767  Bleach    Movie          2018   Japan\n",
      "--------------------------------------------------------------------------------\n",
      "        title   type  release_year                        country\n",
      "2227  One Day  Movie          2011  United States, United Kingdom\n",
      "2803  One Day  Movie          2016                       Thailand\n",
      "--------------------------------------------------------------------------------\n",
      "              title     type  release_year         country\n",
      "2172  The Innocents    Movie          2016  France, Poland\n",
      "2873  The Innocents  TV Show          2018  United Kingdom\n",
      "--------------------------------------------------------------------------------\n",
      "                 title   type  release_year country\n",
      "2691  The Birth Reborn  Movie          2018     NaN\n",
      "2934  The Birth Reborn  Movie          2013  Brazil\n",
      "--------------------------------------------------------------------------------\n",
      "            title     type  release_year      country\n",
      "775   Oh My Ghost  TV Show          2015  South Korea\n",
      "2362  Oh My Ghost  TV Show          2018     Thailand\n",
      "3050  Oh My Ghost    Movie          2009     Thailand\n",
      "--------------------------------------------------------------------------------\n",
      "            title   type  release_year         country\n",
      "3117  Us and Them  Movie          2017  United Kingdom\n",
      "3214  Us and Them  Movie          2018           China\n",
      "--------------------------------------------------------------------------------\n",
      "     title     type  release_year  \\\n",
      "510   Troy    Movie          2004   \n",
      "3435  Troy  TV Show          2018   \n",
      "\n",
      "                                                country  \n",
      "510                United States, Malta, United Kingdom  \n",
      "3435  United Kingdom, South Africa, Australia, Unite...  \n",
      "--------------------------------------------------------------------------------\n",
      "          title     type  release_year        country\n",
      "538   Locked Up  TV Show          2019          Spain\n",
      "3485  Locked Up    Movie          2017  United States\n",
      "--------------------------------------------------------------------------------\n",
      "     title     type  release_year          country\n",
      "2343  Love    Movie          2008        Indonesia\n",
      "3585  Love  TV Show          2018    United States\n",
      "4339  Love    Movie          2015  France, Belgium\n",
      "--------------------------------------------------------------------------------\n",
      "             title   type  release_year        country\n",
      "591   The Outsider  Movie          2019  United States\n",
      "3587  The Outsider  Movie          2018  United States\n",
      "--------------------------------------------------------------------------------\n",
      "      title   type  release_year                              country\n",
      "3544  Benji  Movie          2018  United Arab Emirates, United States\n",
      "3593  Benji  Movie          1974                        United States\n",
      "--------------------------------------------------------------------------------\n",
      "     title   type  release_year country\n",
      "2052  Solo  Movie          2018   Spain\n",
      "3660  Solo  Movie          2017   India\n",
      "--------------------------------------------------------------------------------\n",
      "            title   type  release_year  country\n",
      "1515  The Silence  Movie          2019  Germany\n",
      "3671  The Silence  Movie          2017    India\n",
      "3672  The Silence  Movie          2015    India\n",
      "--------------------------------------------------------------------------------\n",
      "            title   type  release_year  country\n",
      "1515  The Silence  Movie          2019  Germany\n",
      "3671  The Silence  Movie          2017    India\n",
      "3672  The Silence  Movie          2015    India\n",
      "--------------------------------------------------------------------------------\n",
      "         title     type  release_year         country\n",
      "2809  Lovesick  TV Show          2014             NaN\n",
      "3884  Lovesick  TV Show          2018  United Kingdom\n",
      "--------------------------------------------------------------------------------\n",
      "           title   type  release_year                   country\n",
      "2763  The Secret  Movie          2018                       NaN\n",
      "4015  The Secret  Movie          2006  Australia, United States\n",
      "--------------------------------------------------------------------------------\n",
      "        title     type  release_year         country\n",
      "611   Top Boy  TV Show          2019  United Kingdom\n",
      "4135  Top Boy  TV Show          2011  United Kingdom\n",
      "--------------------------------------------------------------------------------\n",
      "     title     type  release_year        country\n",
      "3180   Zoo    Movie          2018          India\n",
      "4225   Zoo  TV Show          2017  United States\n",
      "--------------------------------------------------------------------------------\n",
      "        title     type  release_year        country\n",
      "1241  Charmed  TV Show          2019  United States\n",
      "4241  Charmed  TV Show          2005  United States\n",
      "--------------------------------------------------------------------------------\n",
      "         title     type  release_year         country\n",
      "3775  The Code  TV Show          2011  United Kingdom\n",
      "4270  The Code  TV Show          2014       Australia\n",
      "--------------------------------------------------------------------------------\n",
      "        title     type  release_year           country\n",
      "3319  Manhunt    Movie          2017  China, Hong Kong\n",
      "4303  Manhunt  TV Show          2017     United States\n",
      "--------------------------------------------------------------------------------\n",
      "     title     type  release_year          country\n",
      "2343  Love    Movie          2008        Indonesia\n",
      "3585  Love  TV Show          2018    United States\n",
      "4339  Love    Movie          2015  France, Belgium\n",
      "--------------------------------------------------------------------------------\n",
      "       title     type  release_year        country\n",
      "2734  Maniac  TV Show          2018  United States\n",
      "4379  Maniac  TV Show          2015         Norway\n",
      "--------------------------------------------------------------------------------\n",
      "                    title     type  release_year        country\n",
      "1253  She's Gotta Have It  TV Show          2018  United States\n",
      "4393  She's Gotta Have It    Movie          1986  United States\n",
      "--------------------------------------------------------------------------------\n",
      "        title     type  release_year      country\n",
      "1511  Persona  TV Show          2019  South Korea\n",
      "4444  Persona  TV Show          2015          NaN\n",
      "--------------------------------------------------------------------------------\n",
      "              title     type  release_year                 country\n",
      "950   The Iron Lady    Movie          2011  United Kingdom, France\n",
      "4445  The Iron Lady  TV Show          2009                     NaN\n",
      "--------------------------------------------------------------------------------\n",
      "          title   type  release_year        country\n",
      "671   The Saint  Movie          1997  United States\n",
      "4455  The Saint  Movie          2017  United States\n",
      "--------------------------------------------------------------------------------\n",
      "            title     type  release_year                         country\n",
      "1023  The In-Laws    Movie          2003  United States, Germany, Canada\n",
      "4513  The In-Laws  TV Show          2011                             NaN\n",
      "--------------------------------------------------------------------------------\n",
      "         title     type  release_year country\n",
      "3784  Hostages    Movie          2017     NaN\n",
      "4578  Hostages  TV Show          2016  Israel\n",
      "--------------------------------------------------------------------------------\n",
      "         title     type  release_year    country\n",
      "4014  The Oath    Movie          2016    Iceland\n",
      "4591  The Oath  TV Show          2011  Singapore\n",
      "--------------------------------------------------------------------------------\n",
      "       title     type  release_year      country\n",
      "303   Tunnel  TV Show          2019          NaN\n",
      "511   Tunnel  TV Show          2017  South Korea\n",
      "4661  Tunnel    Movie          2016  South Korea\n",
      "--------------------------------------------------------------------------------\n",
      "       title   type  release_year country\n",
      "3492  Prince  Movie          2010   India\n",
      "4691  Prince  Movie          1969   India\n",
      "--------------------------------------------------------------------------------\n",
      "                title     type  release_year   country\n",
      "1266  Rosario Tijeras  TV Show          2018    Mexico\n",
      "4859  Rosario Tijeras  TV Show          2010  Colombia\n",
      "--------------------------------------------------------------------------------\n",
      "              title   type  release_year           country\n",
      "2699  We Are Family  Movie          2010  India, Australia\n",
      "4868  We Are Family  Movie          2016   France, Belgium\n",
      "--------------------------------------------------------------------------------\n",
      "         title     type  release_year                country\n",
      "2027  Lavender  TV Show          2002                 Taiwan\n",
      "4902  Lavender    Movie          2016  Canada, United States\n",
      "--------------------------------------------------------------------------------\n",
      "      title     type  release_year         country\n",
      "4481  Skins  TV Show          2013  United Kingdom\n",
      "4910  Skins    Movie          2017           Spain\n",
      "--------------------------------------------------------------------------------\n",
      "            title   type  release_year        country\n",
      "3714  Blood Money  Movie          2017  United States\n",
      "4951  Blood Money  Movie          2012          India\n",
      "--------------------------------------------------------------------------------\n",
      "      title   type  release_year           country\n",
      "2694  Tiger  Movie          2016             India\n",
      "5057  Tiger  Movie          2016  Argentina, Italy\n",
      "--------------------------------------------------------------------------------\n",
      "                    title   type  release_year               country\n",
      "3689  People You May Know  Movie          2017         United States\n",
      "5063  People You May Know  Movie          2016  United States, Spain\n",
      "--------------------------------------------------------------------------------\n",
      "           title   type  release_year                    country\n",
      "161   The Lovers  Movie          2017              United States\n",
      "5124  The Lovers  Movie          2015  Belgium, India, Australia\n",
      "--------------------------------------------------------------------------------\n",
      "         title     type  release_year         country\n",
      "4631  Aquarius  TV Show          2016   United States\n",
      "5184  Aquarius    Movie          2016  Brazil, France\n",
      "--------------------------------------------------------------------------------\n",
      "                                       title     type  release_year country\n",
      "357   Little Baby Bum: Nursery Rhyme Friends  TV Show          2019     NaN\n",
      "5339  Little Baby Bum: Nursery Rhyme Friends    Movie          2016     NaN\n",
      "--------------------------------------------------------------------------------\n",
      "     title     type  release_year  \\\n",
      "4061  Deep    Movie          2017   \n",
      "5533  Deep  TV Show          2016   \n",
      "\n",
      "                                                country  \n",
      "4061  Spain, Belgium, Switzerland, United States, Ch...  \n",
      "5533                                             France  \n",
      "--------------------------------------------------------------------------------\n",
      "          title     type  release_year        country\n",
      "474   Limitless    Movie          2017          India\n",
      "1287  Limitless    Movie          2011  United States\n",
      "5538  Limitless  TV Show          2016  United States\n",
      "--------------------------------------------------------------------------------\n",
      "                title   type  release_year        country\n",
      "5596  Frank and Cindy  Movie          2007  United States\n",
      "5597  Frank and Cindy  Movie          2015  United States\n",
      "--------------------------------------------------------------------------------\n",
      "            title     type  release_year         country\n",
      "3781  Retribution  TV Show          2016  United Kingdom\n",
      "5621  Retribution    Movie          2015           Spain\n",
      "--------------------------------------------------------------------------------\n",
      "                        title     type  release_year        country\n",
      "1780  Wet Hot American Summer    Movie          2001  United States\n",
      "5734  Wet Hot American Summer  TV Show          2015  United States\n",
      "--------------------------------------------------------------------------------\n",
      "     title     type  release_year  \\\n",
      "2779  Life  TV Show          2018   \n",
      "5757  Life  TV Show          2009   \n",
      "\n",
      "                                                country  \n",
      "2779                                        South Korea  \n",
      "5757  United Kingdom, United States, Greece, Italy, ...  \n",
      "--------------------------------------------------------------------------------\n"
     ]
    }
   ],
   "source": [
    "for i in dataset[dups][\"title\"].values:\n",
    "    print(dataset[dataset[\"title\"] == i][['title','type','release_year','country']])\n",
    "    print(\"----\" * 20)"
   ]
  },
  {
   "cell_type": "code",
   "execution_count": 100,
   "id": "455953cd",
   "metadata": {},
   "outputs": [
    {
     "data": {
      "image/png": "[encoded data removed]",
      "text/plain": [
       "<Figure size 720x576 with 1 Axes>"
      ]
     },
     "metadata": {
      "needs_background": "light"
     },
     "output_type": "display_data"
    }
   ],
   "source": [
    "plt.figure(figsize = (10, 8))\n",
    "dataset[\"year_added\"].value_counts().plot.bar()\n",
    "plt.title('Distribution Of Year Added')\n",
    "plt.ylabel('Relative Frequency')\n",
    "plt.xlabel('Year Added')\n",
    "plt.show()"
   ]
  },
  {
   "cell_type": "code",
   "execution_count": 110,
   "id": "4ec84873",
   "metadata": {},
   "outputs": [
    {
     "name": "stdout",
     "output_type": "stream",
     "text": [
      "Number of contents whose release year is different from the year they were added to netflix are 3973\n"
     ]
    }
   ],
   "source": [
    "counts = 0\n",
    "for i,j in zip(dataset[\"release_year\"].values, dataset[\"year_added\"].values):\n",
    "    if i != j:\n",
    "        counts += 1\n",
    "print(\"Number of contents whose release year is different from the year they were added to netflix are\", str(counts))"
   ]
  }
 ],
 "metadata": {
  "kernelspec": {
   "display_name": "Python 3 (ipykernel)",
   "language": "python",
   "name": "python3"
  },
  "language_info": {
   "codemirror_mode": {
    "name": "ipython",
    "version": 3
   },
   "file_extension": ".py",
   "mimetype": "text/x-python",
   "name": "python",
   "nbconvert_exporter": "python",
   "pygments_lexer": "ipython3",
   "version": "3.9.7"
  }
 },
 "nbformat": 4,
 "nbformat_minor": 5
}
